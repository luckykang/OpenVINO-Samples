{
 "cells": [
  {
   "cell_type": "code",
   "execution_count": 10,
   "metadata": {},
   "outputs": [
    {
     "name": "stdout",
     "output_type": "stream",
     "text": [
      "b'hello tf'\n"
     ]
    }
   ],
   "source": [
    "# 验证tf安装成功\n",
    "import tensorflow as tf\n",
    "hello = tf.constant(\"hello tf\")\n",
    "sess = tf.Session()\n",
    "print(sess.run(hello))"
   ]
  },
  {
   "cell_type": "code",
   "execution_count": 12,
   "metadata": {},
   "outputs": [
    {
     "name": "stdout",
     "output_type": "stream",
     "text": [
      "hello opencv\n"
     ]
    }
   ],
   "source": [
    "# 验证opencv安装成功\n",
    "import cv2\n",
    "print(\"hello opencv\")"
   ]
  },
  {
   "cell_type": "code",
   "execution_count": 8,
   "metadata": {},
   "outputs": [
    {
     "data": {
      "text/plain": [
       "-1"
      ]
     },
     "execution_count": 8,
     "metadata": {},
     "output_type": "execute_result"
    }
   ],
   "source": [
    "# 读取显示图片  1.文件的读取  2.封装格式解析 3.数据解码 4.数据加载\n",
    "import cv2\n",
    "img = cv2.imread(\"4324242238.png\",1)    # 1代表彩色图像  \n",
    "cv2.imshow(\"image\",img)\n",
    "# jpg png  1.文件头 2.文件数据\n",
    "cv2.waitKey(0)"
   ]
  },
  {
   "cell_type": "code",
   "execution_count": 10,
   "metadata": {},
   "outputs": [
    {
     "data": {
      "text/plain": [
       "True"
      ]
     },
     "execution_count": 10,
     "metadata": {},
     "output_type": "execute_result"
    }
   ],
   "source": [
    "import cv2\n",
    "img = cv2.imread(\"4324242238.png\",1)\n",
    "cv2.imwrite(\"4324242239.png\",img)   # img为图片解码后的数据\n"
   ]
  },
  {
   "cell_type": "code",
   "execution_count": 16,
   "metadata": {},
   "outputs": [
    {
     "data": {
      "text/plain": [
       "True"
      ]
     },
     "execution_count": 16,
     "metadata": {},
     "output_type": "execute_result"
    }
   ],
   "source": [
    "import cv2\n",
    "img = cv2.imread(\"4324242238.png\",1)\n",
    "cv2.imwrite(\"43242422test.png\",img,[cv2.IMWRITE_JPEG_QUALITY,0])  # 描绘当前图片质量，范围是0-100\n"
   ]
  },
  {
   "cell_type": "code",
   "execution_count": 17,
   "metadata": {},
   "outputs": [
    {
     "data": {
      "text/plain": [
       "True"
      ]
     },
     "execution_count": 17,
     "metadata": {},
     "output_type": "execute_result"
    }
   ],
   "source": [
    "import cv2\n",
    "img = cv2.imread(\"4324242238.png\",1)\n",
    "cv2.imwrite(\"43242422test01.png\",img,[cv2.IMWRITE_JPEG_QUALITY,50])  # 描绘当前图片质量，范围是0-100\n"
   ]
  },
  {
   "cell_type": "code",
   "execution_count": 19,
   "metadata": {},
   "outputs": [
    {
     "data": {
      "text/plain": [
       "True"
      ]
     },
     "execution_count": 19,
     "metadata": {},
     "output_type": "execute_result"
    }
   ],
   "source": [
    "import cv2 \n",
    "img = cv2.imread(\"4324242238.jpg\",1)\n",
    "cv2.imwrite(\"43242422test02.png\",img,[cv2.IMWRITE_PNG_COMPRESSION,0])\n",
    "# JPG 0 压缩比最高，损失严重    范围：0-100   PNG  0 压缩比低   范围： 0-9"
   ]
  },
  {
   "cell_type": "code",
   "execution_count": 18,
   "metadata": {},
   "outputs": [
    {
     "name": "stdout",
     "output_type": "stream",
     "text": [
      "239 163 0\n"
     ]
    },
    {
     "data": {
      "text/plain": [
       "-1"
      ]
     },
     "execution_count": 18,
     "metadata": {},
     "output_type": "execute_result"
    }
   ],
   "source": [
    "# 像素操作\n",
    "import cv2\n",
    "img = cv2.imread(\"4324242238.jpg\",1)\n",
    "# opencv读取图片的方式是BGR \n",
    "(b,g,r) = img[22,22]\n",
    "print(b,g,r)\n",
    "for i in range(1,200):\n",
    "    img[17+i,100] = (255,0,0)\n",
    "cv2.imshow(\"image\",img)\n",
    "cv2.waitKey(0)  # 1000ms "
   ]
  },
  {
   "cell_type": "code",
   "execution_count": 1,
   "metadata": {},
   "outputs": [
    {
     "name": "stdout",
     "output_type": "stream",
     "text": [
      "Tensor(\"Const:0\", shape=(), dtype=float32)\n",
      "2\n",
      "10\n"
     ]
    }
   ],
   "source": [
    "# 2-11 tf常量变量   opencv   tensorflow   \n",
    "# 类比  语法  API 原理  \n",
    "# 基础数据类型  运算符 流程\n",
    "import tensorflow as tf \n",
    "# tf.constant是一个op（算子）\n",
    "data1 = tf.constant(2.5)\n",
    "print(data1)\n",
    "data2 = tf.constant(2,dtype=tf.int32)\n",
    "# tf.Variable是一个类，用于实例化对象\n",
    "data3 = tf.Variable(10,name=\"var\")\n",
    "sess = tf.Session()\n",
    "print(sess.run(data2))\n",
    "# 初始化\n",
    "init = tf.global_variables_initializer()\n",
    "sess.run(init)\n",
    "print(sess.run(data3))\n",
    "sess.close()\n"
   ]
  },
  {
   "cell_type": "code",
   "execution_count": 2,
   "metadata": {},
   "outputs": [
    {
     "name": "stdout",
     "output_type": "stream",
     "text": [
      "Tensor(\"Const_2:0\", shape=(), dtype=float32)\n",
      "10\n"
     ]
    }
   ],
   "source": [
    "# 2-12 tensorflow运算原理\n",
    "# tensorflow的实质：数据tensor + 计算图grahps      tensor 数据    grahps 数据操作\n",
    "import tensorflow as tf \n",
    "# tf.constant是一个op（算子）\n",
    "data1 = tf.constant(2.5)\n",
    "print(data1)\n",
    "data2 = tf.constant(2,dtype=tf.int32)\n",
    "# tf.Variable是一个类，用于实例化对象\n",
    "data3 = tf.Variable(10,name=\"var\")\n",
    "\n",
    "\n",
    "\"\"\"\n",
    "sess = tf.Session()\n",
    "print(sess.run(data2))\n",
    "# 初始化\n",
    "init = tf.global_variables_initializer()\n",
    "sess.run(init)\n",
    "print(sess.run(data3))\n",
    "sess.close()\n",
    "\"\"\"\n",
    "\n",
    "init = tf.global_variables_initializer()\n",
    "sess = tf.Session()\n",
    "with sess:\n",
    "    sess.run(init)\n",
    "    print(sess.run(data3))\n"
   ]
  },
  {
   "cell_type": "code",
   "execution_count": 11,
   "metadata": {},
   "outputs": [
    {
     "name": "stdout",
     "output_type": "stream",
     "text": [
      "8\n",
      "12\n",
      "4\n",
      "3.0\n",
      "end!\n"
     ]
    }
   ],
   "source": [
    "# 2-13 常量四则运算\n",
    "import tensorflow as tf\n",
    "data1 = tf.constant(6)\n",
    "data2 = tf.constant(2)\n",
    "# +\n",
    "dataAdd = tf.add(data1,data2)\n",
    "# X\n",
    "dataMul = tf.multiply(data1,data2)\n",
    "# -\n",
    "dataSub =  tf.subtract(data1,data2)\n",
    "# /\n",
    "dataDiv = tf.divide(data1,data2)\n",
    "with tf.Session() as sess:\n",
    "    print(sess.run(dataAdd))\n",
    "    print(sess.run(dataMul))\n",
    "    print(sess.run(dataSub))\n",
    "    print(sess.run(dataDiv))\n",
    "print(\"end!\")\n"
   ]
  },
  {
   "cell_type": "code",
   "execution_count": 15,
   "metadata": {},
   "outputs": [
    {
     "name": "stdout",
     "output_type": "stream",
     "text": [
      "8\n",
      "12\n",
      "4\n",
      "3.0\n",
      "dataCopy 8\n",
      "dataCopy.eval 14\n",
      "tf.get_default_session 20\n",
      "end!\n"
     ]
    }
   ],
   "source": [
    "# 2-13 变量四则运算\n",
    "import tensorflow as tf\n",
    "data1 = tf.constant(6)\n",
    "# 变量\n",
    "data2 = tf.Variable(2)\n",
    "# “+”\n",
    "dataAdd = tf.add(data1,data2)\n",
    "# dataAdd -> data2\n",
    "dataCopy = tf.assign(data2,dataAdd)\n",
    "# “X”\n",
    "dataMul = tf.multiply(data1,data2)\n",
    "# “-”\n",
    "dataSub =  tf.subtract(data1,data2)\n",
    "# “/”\n",
    "dataDiv = tf.divide(data1,data2)\n",
    "init = tf.global_variables_initializer()\n",
    "with tf.Session() as sess:\n",
    "    sess.run(init)\n",
    "    print(sess.run(dataAdd))\n",
    "    print(sess.run(dataMul))\n",
    "    print(sess.run(dataSub))\n",
    "    print(sess.run(dataDiv))\n",
    "    print(\"dataCopy\",sess.run(dataCopy))         8 -> data2\n",
    "    print(\"dataCopy.eval\",dataCopy.eval())       data2 8 + data1 6 -> 14     运算完成后14重新赋值给data2 \n",
    "    print(\"tf.get_default_session\",tf.get_default_session().run(dataCopy))   14 + 6 = 20\n",
    "print(\"end!\")"
   ]
  },
  {
   "cell_type": "code",
   "execution_count": 4,
   "metadata": {},
   "outputs": [
    {
     "name": "stdout",
     "output_type": "stream",
     "text": [
      "5.0\n",
      "end!\n"
     ]
    }
   ],
   "source": [
    "# 2-14 矩阵基础1\n",
    "# placehold\n",
    "import tensorflow as tf\n",
    "data1 = tf.placeholder(tf.float32)\n",
    "data2 = tf.placeholder(tf.float32)\n",
    "dataAdd = tf.add(data1,data2)\n",
    "with tf.Session() as sess:\n",
    "    print(sess.run(dataAdd,feed_dict={data1:6,data2:2}))\n",
    "print(\"end!\")\n",
    "\n",
    "\n",
    "\n"
   ]
  },
  {
   "cell_type": "code",
   "execution_count": 19,
   "metadata": {},
   "outputs": [
    {
     "name": "stdout",
     "output_type": "stream",
     "text": [
      "(3, 2)\n",
      "[[1 2]\n",
      " [3 4]\n",
      " [5 6]]\n",
      "打印第一行\n",
      "[1 2]\n",
      "打印第一列\n",
      "[1 3 5]\n",
      "打印所有行和列\n",
      "[[1 2]\n",
      " [3 4]\n",
      " [5 6]]\n"
     ]
    }
   ],
   "source": [
    "# 2-14 矩阵基础1\n",
    "# 类比  数组  M行N列   外部 []      内部 [里面  列数据]   中括号整体作为行数据      \n",
    "# 一行两列  [[6,6]]\n",
    "import tensorflow as tf\n",
    "data1 = tf.constant([[6,6]])\n",
    "data2 = tf.constant([[3],\n",
    "                     [2]])\n",
    "data3 = tf.constant([[3,3]])\n",
    "# 3行2列\n",
    "data4 = tf.constant([[1,2],      \n",
    "                     [3,4],\n",
    "                     [5,6]])\n",
    "#打印data4的维度(3, 2)\n",
    "print(data4.shape)\n",
    "with tf.Session() as sess:\n",
    "    print(sess.run(data4))\n",
    "    print(\"打印第一行\")\n",
    "    print(sess.run(data4[0])) \n",
    "    print(\"打印第一列\")\n",
    "    print(sess.run(data4[:,0]))\n",
    "    print(\"打印所有行和列\")\n",
    "    print(sess.run(data4[:,:]))\n",
    "\n",
    "    \n"
   ]
  },
  {
   "cell_type": "code",
   "execution_count": 7,
   "metadata": {},
   "outputs": [
    {
     "name": "stdout",
     "output_type": "stream",
     "text": [
      "[[30]]\n",
      "[[9 9]]\n",
      "[[18 18]\n",
      " [12 12]]\n"
     ]
    }
   ],
   "source": [
    "# 2-15 矩阵基础     乘法运算时，第一个矩阵的列必须与第二个矩阵的行相同\n",
    "import tensorflow as tf\n",
    "data1 = tf.constant([[6,6]])\n",
    "data2 = tf.constant([[3],\n",
    "                     [2]])\n",
    "data3 = tf.constant([[3,3]])\n",
    "# 3行2列\n",
    "data4 = tf.constant([[1,2],      \n",
    "                     [3,4],\n",
    "                     [5,6]])\n",
    "matMul = tf.matmul(data1,data2)\n",
    "matAdd = tf.add(data1,data3)\n",
    "matMul2 = tf.multiply(data1,data2)\n",
    "with tf.Session() as sess:\n",
    "    print(sess.run(matMul))  # 1维    1x2(MK)  2x1(KN)  = 1\n",
    "    print(sess.run(matAdd))  # 1行2列\n",
    "    print(sess.run(matMul2))  # 1x2    2x1"
   ]
  },
  {
   "cell_type": "code",
   "execution_count": 1,
   "metadata": {},
   "outputs": [
    {
     "name": "stdout",
     "output_type": "stream",
     "text": [
      "[[15 15 15]\n",
      " [15 15 15]]\n"
     ]
    }
   ],
   "source": [
    "# 2-16 矩阵基础   \n",
    "import tensorflow as tf\n",
    "mat0 = tf.constant([[0,0,0],[0,0,0]])  # 2行3列的全0矩阵  2x3\n",
    "mat1 = tf.zeros([2,3])  # 2行3列的全0矩阵  2x3\n",
    "mat2 = tf.ones([3,2])   # 3行2列的全1矩阵  3x2\n",
    "mat3 = tf.fill([2,3],15) # 填充矩阵, 2x3的矩阵，全部填充为15\n",
    "with tf.Session() as sess:\n",
    "    # print(sess.run(mat0))\n",
    "    # print(sess.run(mat1))\n",
    "    # print(sess.run(mat2))\n",
    "    print(sess.run(mat3))\n",
    "    "
   ]
  },
  {
   "cell_type": "code",
   "execution_count": 16,
   "metadata": {},
   "outputs": [
    {
     "name": "stdout",
     "output_type": "stream",
     "text": [
      "[[-0.21564019 -0.8017      1.0554743 ]\n",
      " [ 0.5166365   0.3986901   1.4621339 ]]\n"
     ]
    }
   ],
   "source": [
    "import tensorflow as tf\n",
    "mat0 = tf.constant([[2],[3],[4]])\n",
    "# 用0替换矩阵原来数据\n",
    "mat1 = tf.zeros_like(mat0)\n",
    "# 把0-2之间的数据平均分为10等分\n",
    "mat2 = tf.lin_space(0.0,2.0,11)\n",
    "# 随机数 2行3列  -1到2之间的数\n",
    "mat3 = tf.random_uniform([2,3],-1,2)\n",
    "with tf.Session() as sess:\n",
    "    # print(sess.run(mat1))\n",
    "   #print(sess.run(mat2))\n",
    "    print(sess.run(mat3))\n"
   ]
  },
  {
   "cell_type": "code",
   "execution_count": 9,
   "metadata": {},
   "outputs": [
    {
     "name": "stdout",
     "output_type": "stream",
     "text": [
      "[[1. 2. 3.]\n",
      " [4. 5. 6.]]\n"
     ]
    }
   ],
   "source": [
    "# numpu用法\n",
    "import numpy as np\n",
    "data1 = np.array([1,2,3,4,5])\n",
    "# print(data1)\n",
    "data2 = np.array([[1,2],[3,4]])\n",
    "# print(data2)\n",
    "# 打印维度\n",
    "# print(data1.shape,data2.shape)\n",
    "# 空矩阵  zero  2x4 单位矩阵  ones 3x5\n",
    "# print(np.zeros([2,4]),np.ones([3,5]))\n",
    "# 修改 第一行第2列元素修改为3\n",
    "data2[0,1] = 66\n",
    "# print(data2)\n",
    "# 查找 第一行第2列元素\n",
    "# print(data2[0,1])\n",
    "\n",
    "# 基本运算\n",
    "data3 = np.ones([2,3])\n",
    "# print(data3)\n",
    "# 矩阵的每个元素都x2\n",
    "# print(data3*2)  \n",
    "# 矩阵的每个元素都/3\n",
    "# print(data3/3)\n",
    "# 矩阵的每个元素都+2\n",
    "# print(data3+2)\n",
    "# 矩阵的每个元素都-4\n",
    "# print(data3-4)\n",
    "\n",
    "# 矩阵之间的运算\n",
    "data4 = np.array([[1,2,3],[4,5,6]])\n",
    "# print(data3+data4)\n",
    "print(data3*data4)\n"
   ]
  },
  {
   "cell_type": "code",
   "execution_count": 13,
   "metadata": {
    "scrolled": false
   },
   "outputs": [
    {
     "data": {
      "text/plain": [
       "[<matplotlib.lines.Line2D at 0x26d18b1e2e8>]"
      ]
     },
     "execution_count": 13,
     "metadata": {},
     "output_type": "execute_result"
    },
    {
     "data": {
      "image/png": "[encoded data removed]",
      "text/plain": [
       "<Figure size 432x288 with 1 Axes>"
      ]
     },
     "metadata": {},
     "output_type": "display_data"
    }
   ],
   "source": [
    "# matplotlib介绍使用\n",
    "%matplotlib inline\n",
    "import numpy as np\n",
    "import matplotlib.pyplot as plt\n",
    "x = np.array([1,2,3,4,5,6])\n",
    "y = np.array([3,6,9,12,15,18])\n",
    "# 折线图  1 x 2 y 3 color \n",
    "plt.plot(x,y,'g') \n",
    "# 第四个参数  line的宽度\n",
    "plt.plot(x,y,'g',lw=5)"
   ]
  },
  {
   "cell_type": "code",
   "execution_count": 20,
   "metadata": {
    "scrolled": true
   },
   "outputs": [
    {
     "data": {
      "image/png": "[encoded data removed]",
      "text/plain": [
       "<Figure size 432x288 with 1 Axes>"
      ]
     },
     "metadata": {},
     "output_type": "display_data"
    }
   ],
   "source": [
    "%matplotlib inline\n",
    "import matplotlib.pyplot as plt\n",
    "import numpy as np\n",
    "x = np.array([1,3,5,7,9])\n",
    "y = np.array([2,4,6,8,10])\n",
    "# 柱形图   第三个参数：每个柱状体的宽度比例 0-1     alpha:透明度 0-1  \n",
    "plt.bar(x,y,0.6,alpha=0.8,color='r')\n",
    "plt.show()\n"
   ]
  },
  {
   "cell_type": "code",
   "execution_count": 5,
   "metadata": {},
   "outputs": [
    {
     "name": "stdout",
     "output_type": "stream",
     "text": [
      "[1. 2. 3. 4. 5.]\n"
     ]
    },
    {
     "data": {
      "image/png": "[encoded data removed]",
      "text/plain": [
       "<Figure size 432x288 with 1 Axes>"
      ]
     },
     "metadata": {},
     "output_type": "display_data"
    }
   ],
   "source": [
    "# 2-19 神经网络逼近股票收盘价格\n",
    "import tensorflow as tf\n",
    "import numpy as np\n",
    "import matplotlib.pyplot as plt\n",
    "# linespace是线性增长的，从1-5，5个数据\n",
    "date = np.linspace(1,5,5)\n",
    "endPrice = np.array([32432.324,34552.324,53455.333,98456.367,65544.343])\n",
    "beginPrice = np.array([54343.3,23543.53,34222.43,34368.75,76545.34])\n",
    "print(date)\n",
    "# 创建一个图形实例\n",
    "plt.figure()\n",
    "for i in range(0,5):\n",
    "    # 柱状图  横坐标  日期\n",
    "    dateOne = np.zeros([2])\n",
    "    dateOne[0] = i;\n",
    "    dateOne[1] = i;\n",
    "    priceOne = np.zeros([2])\n",
    "    # 开盘价格  纵坐标 价格\n",
    "    priceOne[0] = beginPrice[i]\n",
    "    # 收盘价格\n",
    "    priceOne[1] = endPrice[i]\n",
    "    # 收盘大于开盘  表示股价上涨     \n",
    "    if endPrice[i] > beginPrice[i]:\n",
    "        # lw是线条宽度\n",
    "        plt.plot(dateOne,priceOne,'r',lw=8)\n",
    "    else:\n",
    "        plt.plot(dateOne,priceOne,'g',lw=8)\n",
    "# 显示图\n",
    "plt.show()\n",
    "\n",
    "\n",
    "\n",
    "\n",
    "\n",
    "\n"
   ]
  },
  {
   "cell_type": "code",
   "execution_count": null,
   "metadata": {
    "collapsed": true
   },
   "outputs": [],
   "source": [
    "# 2-20 神经网络逼近股票收盘价格\n",
    "输入矩阵-    隐藏层矩阵-      输出矩阵\n",
    "A*w1 + b1 = B  B*W2 + b2 =  C \n",
    "输入层A      隐藏层B          输出层C\n",
    "\n",
    " "
   ]
  },
  {
   "cell_type": "code",
   "execution_count": 6,
   "metadata": {
    "scrolled": true
   },
   "outputs": [
    {
     "data": {
      "image/png": "[encoded data removed]",
      "text/plain": [
       "<Figure size 432x288 with 1 Axes>"
      ]
     },
     "metadata": {},
     "output_type": "display_data"
    }
   ],
   "source": [
    "# 2-21\n",
    "import tensorflow as tf\n",
    "import numpy as np\n",
    "import matplotlib.pyplot as plt\n",
    "# linespace是线性增长的，从1-15，15个数据\n",
    "date = np.linspace(1,15,15)\n",
    "endPrice = np.array([32432.324,34552.324,53455.333,98456.367,65544.343,32432.324,34552.324,53455.333,98456.367,65544.343,32432.324,34552.324,53455.333,98456.367,65544.343])\n",
    "beginPrice = np.array([54343.3,23543.53,34222.43,34368.75,76545.34,54343.3,23543.53,34222.43,34368.75,76545.34,54343.3,23543.53,34222.43,34368.75,76545.34])\n",
    "print(date)\n",
    "# 创建一个图形实例\n",
    "plt.figure()\n",
    "for i in range(0,15):\n",
    "    # 柱状图  横坐标  日期\n",
    "    dateOne = np.zeros([2])\n",
    "    dateOne[0] = i;\n",
    "    dateOne[1] = i;\n",
    "    priceOne = np.zeros([2])\n",
    "    # 开盘价格  纵坐标 价格\n",
    "    priceOne[0] = beginPrice[i]\n",
    "    # 收盘价格\n",
    "    priceOne[1] = endPrice[i]\n",
    "    # 收盘大于开盘  表示股价上涨     \n",
    "    if endPrice[i] > beginPrice[i]:\n",
    "        # lw是线条宽度\n",
    "        plt.plot(dateOne,priceOne,'r',lw=8)\n",
    "    else:\n",
    "        plt.plot(dateOne,priceOne,'g',lw=8)\n",
    "# 显示图\n",
    "# plt.show()\n",
    "# A(15x1)*w1(1x10) + b1(1x10) = B(15x10) \n",
    "# B(15x10) *W2(10x1) + b2(15x1) =  C(15x1)\n",
    "# A 输入层\n",
    "dateNormal = np.zeros([15,1])\n",
    "priceNormal = np.zeros([15,1])\n",
    "for i in range(0,15):\n",
    "    # 日期从0开始\n",
    "    dateNormal[i,0] = i/14.0;\n",
    "    priceNormal[i,0] = endPrice[i]/6000.0;\n",
    "    # [None,1] 表示N行1列\n",
    "x = tf.placeholder(tf.float32,[None,1])\n",
    "y = tf.placeholder(tf.float32,[None,1])\n",
    "# B 隐藏层\n",
    "w1 = tf.Variable(tf.random_uniform([1,10],0,1))\n",
    "b1 = tf.Variable(tf.zeros(([1,10])))\n",
    "wb1 = tf.matmul(x,w1)+b1\n",
    "# 激励函数\n",
    "layer1 = tf.nn.relu(wb1)\n",
    "# C 输出层\n",
    "w2 = tf.Variable(tf.random_uniform([10,1],0,1))\n",
    "b2 = tf.Variable(tf.zeros(([15,1])))\n",
    "wb2 = tf.matmul(layer1,w2)+b2\n",
    "layer2 = tf.nn.relu(wb2)\n",
    "loss = tf.reduce_mean(tf.square(y-layer2)) \n",
    "train_step = tf.train.GradientDescentOptimizer(0.1).minimize(loss)\n",
    "with tf.Session() as sess:\n",
    "    sess.run(tf.global_variables_initializer())\n",
    "    for i in range(0,10000):\n",
    "        sess.run(train_step, feed_dict={x:dateNormal,y:priceNormal})\n",
    "        # w1w2 b1b2   A + wb  --> layer2\n",
    "    pred = sess.run(layer2,feed_dict={x:dateNormal})\n",
    "    predPrice = np.zeros([15,1])\n",
    "    for i in range(0,15):\n",
    "        predPrice[i,0]=(pred*3000)[i,0]\n",
    "    plt.plot(date,predPrice,'b',lw=1)\n",
    "plt.show()\n",
    "\n",
    "\n",
    "\n",
    "\n"
   ]
  },
  {
   "cell_type": "code",
   "execution_count": null,
   "metadata": {
    "collapsed": true
   },
   "outputs": [],
   "source": []
  }
 ],
 "metadata": {
  "kernelspec": {
   "display_name": "Python 3",
   "language": "python",
   "name": "python3"
  },
  "language_info": {
   "codemirror_mode": {
    "name": "ipython",
    "version": 3
   },
   "file_extension": ".py",
   "mimetype": "text/x-python",
   "name": "python",
   "nbconvert_exporter": "python",
   "pygments_lexer": "ipython3",
   "version": "3.6.2"
  }
 },
 "nbformat": 4,
 "nbformat_minor": 4
}
