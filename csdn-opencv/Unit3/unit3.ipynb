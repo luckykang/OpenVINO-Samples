{
 "cells": [
  {
   "cell_type": "code",
   "execution_count": 2,
   "metadata": {},
   "outputs": [
    {
     "ename": "SyntaxError",
     "evalue": "invalid syntax (<ipython-input-2-d6b58f14caef>, line 1)",
     "output_type": "error",
     "traceback": [
      "\u001b[1;36m  File \u001b[1;32m\"<ipython-input-2-d6b58f14caef>\"\u001b[1;36m, line \u001b[1;32m1\u001b[0m\n\u001b[1;33m    3-1 图片的几何变换\u001b[0m\n\u001b[1;37m              ^\u001b[0m\n\u001b[1;31mSyntaxError\u001b[0m\u001b[1;31m:\u001b[0m invalid syntax\n"
     ]
    }
   ],
   "source": [
    "3-1 图片的几何变换\n",
    "Hog+SVM 识别\n",
    "仿射变换：位移 旋转 缩放 \n",
    "\n",
    "\n",
    "\n"
   ]
  },
  {
   "cell_type": "code",
   "execution_count": 8,
   "metadata": {},
   "outputs": [
    {
     "name": "stdout",
     "output_type": "stream",
     "text": [
      "(1334, 1000, 3)\n",
      "(667, 500, 3)\n"
     ]
    },
    {
     "data": {
      "text/plain": [
       "-1"
      ]
     },
     "execution_count": 8,
     "metadata": {},
     "output_type": "execute_result"
    }
   ],
   "source": [
    "# 3-2 图片缩放  opencv的resize方法实现\n",
    "import cv2\n",
    "# 1 代表读取的是彩色图片\n",
    "img = cv2.imread('27.jpg',1)\n",
    "# 图片的宽 高  颜色组成方式\n",
    "imgInfo = img.shape\n",
    "print(imgInfo)\n",
    "height = imgInfo[0]\n",
    "width = imgInfo[1]\n",
    "mode = imgInfo[2]\n",
    "# 1.放大 缩小 2.等比例 非等比例\n",
    "dstHeight = int(height*0.5)\n",
    "dstWidth = int(width*0.5)\n",
    "# opencv提供4种方法缩放： 最近邻域插值 双线性插值(常用) 像素关系重采样 立方插值\n",
    "dst = cv2.resize(img,(dstWidth,dstHeight))\n",
    "print(dst.shape)\n",
    "cv2.imshow(\"image\",dst)\n",
    "cv2.waitKey(0)\n"
   ]
  },
  {
   "cell_type": "code",
   "execution_count": 15,
   "metadata": {},
   "outputs": [
    {
     "data": {
      "text/plain": [
       "-1"
      ]
     },
     "execution_count": 15,
     "metadata": {},
     "output_type": "execute_result"
    }
   ],
   "source": [
    "# 3-3 最近邻域插值\n",
    "# 原图像src 10x20  目标图像dst 5x10\n",
    "# dst <- src 目标图像每个值都来自原图像\n",
    "# (1,2) <- (2,4)\n",
    "# dst x 1 <- src x 2  newX \n",
    "# newX =  x*(src 行/目标 行)  newX = 1* (10/5) = 2\n",
    "# newY = y*(src 列/目标 列)   newY = 2* (20/10) = 4\n",
    "# 12.3 = 12\n",
    "\n",
    "\n",
    "#  双线性插值   原理\n",
    "A1 = 20% 上 + 80% 下 A \n",
    "B1 = 30% 上 + 70% 下 B \n",
    "# 1 最终点 = A1 30% + A2 70% \n",
    "# 2 最终点 = B1 20% + B2 80%\n",
    "\n",
    "\n",
    "\n"
   ]
  },
  {
   "cell_type": "code",
   "execution_count": 16,
   "metadata": {},
   "outputs": [
    {
     "data": {
      "text/plain": [
       "-1"
      ]
     },
     "execution_count": 16,
     "metadata": {},
     "output_type": "execute_result"
    }
   ],
   "source": [
    "# 3- 4图片缩放 源码实现缩放过程\n",
    "# 1 获取图片的info信息   2 创建一个空白模板  3  计算每个位置的像素点xy\n",
    "import cv2\n",
    "import numpy as np\n",
    "img = cv2.imread('download.jpg',1)\n",
    "imgInfo = img.shape\n",
    "# 获取图片的高度 宽度\n",
    "height = imgInfo[0]\n",
    "width = imgInfo[1]\n",
    "# 缩放50%\n",
    "dstHeight = int(height/2)\n",
    "dstWidth = int(width/2)\n",
    "# 定义目标图片空白模板  3表示每个像素由3个基本元素组成\n",
    "dstImage = np.zeros((dstHeight,dstWidth,3),np.uint8)  # uint8范围 0-255\n",
    "# 完成图片的缩放\n",
    "for i in range(0,dstHeight): # 行\n",
    "    for j in range(0,dstWidth): # 列\n",
    "        iNew = int(i*(height*1.0/dstHeight))\n",
    "        jNew = int(i*(width*1.0/dstWidth))\n",
    "        dstImage[i,j] = img[iNew,jNew]\n",
    "# 1 窗口名称  2 显示的图像\n",
    "cv2.imshow(\"dst\",dstImage)\n",
    "cv2.waitKey(0)     \n"
   ]
  },
  {
   "cell_type": "code",
   "execution_count": 17,
   "metadata": {},
   "outputs": [
    {
     "data": {
      "text/plain": [
       "-1"
      ]
     },
     "execution_count": 17,
     "metadata": {},
     "output_type": "execute_result"
    }
   ],
   "source": [
    "# 3-5 图片剪切\n",
    "# 100-200 x   100-300 y\n",
    "import cv2 \n",
    "img = cv2.imread('download.jpg',1)\n",
    "imgInfo = img.shape\n",
    "dst = img[100:200,100:300]\n",
    "cv2.imshow('dst',dst)\n",
    "cv2.waitKey(0)"
   ]
  },
  {
   "cell_type": "code",
   "execution_count": null,
   "metadata": {
    "collapsed": true
   },
   "outputs": [],
   "source": [
    "# 3-6 图片移位\n",
    "import cv2\n",
    "import numpy as np\n",
    "img = cv2.imread('download.jpg',1)\n",
    "cv2.imshow('src',img)\n",
    "imgInfo = img.shape\n",
    "height = imgInfo[0]\n",
    "width = imgInfo[1]\n",
    "### 向右移动 50 向下移动 50\n",
    "matShift = np.float32([[1,0,50],[0,1,50]]) # 2x3\n",
    "# 生成目标图片\n",
    "dst = cv2.warpAffine(img,matShift,(height,width))  \n",
    "# 移位 矩阵\n",
    "cv2.imshow('dst',dst)\n",
    "cv2.waitKey(0)"
   ]
  },
  {
   "cell_type": "code",
   "execution_count": 17,
   "metadata": {},
   "outputs": [
    {
     "data": {
      "text/plain": [
       "True"
      ]
     },
     "execution_count": 17,
     "metadata": {},
     "output_type": "execute_result"
    }
   ],
   "source": [
    "# 3-7 图片移位\n",
    "\n",
    "# 1.api移动\n",
    "# [1,0,50],[0,1,50]   2x2  2x1\n",
    "# [[1,0],[0,1]]       2x2  A\n",
    "# [[50],[50]]         2x1  B\n",
    "# A*C+B = [[1*X+0*Y],[0*x+1*y]] + [[50],[50]] \n",
    "# = [[x+50],[y+50]]\n",
    "\n",
    "# 2.像素移动\n",
    "# (10,20)  -> (110,120)\n"
   ]
  },
  {
   "cell_type": "code",
   "execution_count": 1,
   "metadata": {},
   "outputs": [
    {
     "data": {
      "text/plain": [
       "-1"
      ]
     },
     "execution_count": 1,
     "metadata": {},
     "output_type": "execute_result"
    }
   ],
   "source": [
    "# 3-8 通过源代码实现图片移动\n",
    "import cv2\n",
    "import numpy as np\n",
    "img = cv2.imread('download.jpg',1)\n",
    "cv2.imshow('src',img)\n",
    "imgInfo = img.shape\n",
    "# 参数：图片维度    0-255\n",
    "dst = np.zeros(img.shape,np.uint8)\n",
    "height = imgInfo[0]\n",
    "width = imgInfo[1]\n",
    "for i in range(0,height):\n",
    "    # 整个图片的宽度右移50\n",
    "    for j in range(0,width-50):\n",
    "        dst[i,j+50] = img[i,j]\n",
    "cv2.imshow(\"dst\",dst)\n",
    "cv2.waitKey(0)"
   ]
  },
  {
   "cell_type": "code",
   "execution_count": 1,
   "metadata": {},
   "outputs": [
    {
     "data": {
      "text/plain": [
       "-1"
      ]
     },
     "execution_count": 1,
     "metadata": {},
     "output_type": "execute_result"
    }
   ],
   "source": [
    "# 3-9 图片镜像\n",
    "# 步骤： 1.创建一个画板 2.将图片分别从前向后，从后向前绘制 3.绘制中心分割线\n",
    "import cv2\n",
    "import numpy as np\n",
    "img = cv2.imread('download.jpg',1)\n",
    "cv2.imshow('src',img)\n",
    "imgInfo = img.shape\n",
    "height = imgInfo[0]\n",
    "width = imgInfo[1]\n",
    "# 当前每个像素有多少个颜色组成\n",
    "deep = imgInfo[2]\n",
    "newImgInfo = (height*2,width,deep)\n",
    "dst = np.zeros(newImgInfo,np.uint8)\n",
    "for i in range(0,height):\n",
    "    for j in range(0,width):\n",
    "        dst[i,j] = img[i,j]\n",
    "        dst[height*2-i-1,j] = img[i,j]\n",
    "# 分割线\n",
    "for i in range(0,width):\n",
    "    dst[height,i] = (0,0,255)  # BGR图像\n",
    "cv2.imshow(\"dst\",dst)\n",
    "cv2.waitKey(0)\n"
   ]
  },
  {
   "cell_type": "code",
   "execution_count": 1,
   "metadata": {},
   "outputs": [
    {
     "data": {
      "text/plain": [
       "-1"
      ]
     },
     "execution_count": 1,
     "metadata": {},
     "output_type": "execute_result"
    }
   ],
   "source": [
    "# 3-10 图片缩放\n",
    "import cv2\n",
    "import numpy as np\n",
    "img = cv2.imread('download.jpg',1)\n",
    "cv2.imshow('src',img)\n",
    "imgInfo = img.shape\n",
    "height = imgInfo[0]\n",
    "width = imgInfo[1]\n",
    "# 缩放矩阵   图片的 x y 都缩放0.5倍\n",
    "matScale = np.float32([[0.5,0,0],[0,0.5,0]])\n",
    "dst = cv2.warpAffine(img,matScale,(int(width/2),int(height/2)))\n",
    "cv2.imshow('dst',dst)\n",
    "cv2.waitKey(0)\n",
    "\n",
    "\n"
   ]
  },
  {
   "cell_type": "code",
   "execution_count": 7,
   "metadata": {},
   "outputs": [
    {
     "data": {
      "text/plain": [
       "-1"
      ]
     },
     "execution_count": 7,
     "metadata": {},
     "output_type": "execute_result"
    }
   ],
   "source": [
    "# 3-11图片仿射变换\n",
    "import cv2\n",
    "import numpy as np\n",
    "img = cv2.imread('download.jpg',1)\n",
    "cv2.imshow('src',img)\n",
    "imgInfo = img.shape\n",
    "height = imgInfo[0]\n",
    "width = imgInfo[1]\n",
    "#  src 3 ->   dst  3  (左上角  左下角  右上角)\n",
    "# 原图片三个点\n",
    "matSrc = np.float32([[0,0],[0,height-1],[width-1,0]])\n",
    "# 仿射到新的图片\n",
    "matDst = np.float32([[50,50],[300,height-200],[width-300,200]])\n",
    "#组合矩阵 仿射变换\n",
    "matAffine = cv2.getAffineTransform(matSrc,matDst)\n",
    "dst = cv2.warpAffine(img,matAffine,(width,height))\n",
    "cv2.imshow('dst',dst)\n",
    "cv2.waitKey(0)\n"
   ]
  },
  {
   "cell_type": "code",
   "execution_count": 12,
   "metadata": {},
   "outputs": [
    {
     "data": {
      "text/plain": [
       "-1"
      ]
     },
     "execution_count": 12,
     "metadata": {},
     "output_type": "execute_result"
    }
   ],
   "source": [
    "# 3-12 图片的旋转\n",
    "import cv2\n",
    "import numpy as np\n",
    "img = cv2.imread('download.jpg',1)\n",
    "cv2.imshow('src',img)\n",
    "imgInfo = img.shape\n",
    "height = imgInfo[0]\n",
    "width = imgInfo[1]\n",
    "# 旋转矩阵的方法 参数:1 旋转中心点   2 旋转角度  3 缩放的系数\n",
    "matRotate = cv2.getRotationMatrix2D((height*0.5,width*0.5),45,0.5)\n",
    "dst = cv2.warpAffine(img,matRotate,(width,height))\n",
    "cv2.imshow('dst',dst)\n",
    "cv2.waitKey(0)"
   ]
  },
  {
   "cell_type": "code",
   "execution_count": null,
   "metadata": {
    "collapsed": true
   },
   "outputs": [],
   "source": [
    "# 3-13 "
   ]
  },
  {
   "cell_type": "code",
   "execution_count": null,
   "metadata": {
    "collapsed": true
   },
   "outputs": [],
   "source": []
  }
 ],
 "metadata": {
  "kernelspec": {
   "display_name": "Python 3",
   "language": "python",
   "name": "python3"
  },
  "language_info": {
   "codemirror_mode": {
    "name": "ipython",
    "version": 3
   },
   "file_extension": ".py",
   "mimetype": "text/x-python",
   "name": "python",
   "nbconvert_exporter": "python",
   "pygments_lexer": "ipython3",
   "version": "3.6.2"
  }
 },
 "nbformat": 4,
 "nbformat_minor": 4
}
